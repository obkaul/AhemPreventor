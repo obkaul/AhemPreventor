{
 "cells": [
  {
   "cell_type": "code",
   "execution_count": 13,
   "metadata": {},
   "outputs": [
    {
     "data": {
      "text/html": [
       "<style>.container { width:100% !important; }</style>"
      ],
      "text/plain": [
       "<IPython.core.display.HTML object>"
      ]
     },
     "metadata": {},
     "output_type": "display_data"
    },
    {
     "name": "stdout",
     "output_type": "stream",
     "text": [
      "AhemPreventor library load success.\n"
     ]
    }
   ],
   "source": [
    "# Show graphs inline, as part of the notebook\n",
    "%matplotlib inline\n",
    "\n",
    "# Show graphs in a separate window\n",
    "#%matplotlib osx\n",
    "#%matplotlib qt  \n",
    "# wx, gtk, osx, tk\n",
    "#%matplotlib # empty uses default\n",
    "\n",
    "# scale jupyter notebook to width of browser window\n",
    "from IPython.core.display import display, HTML\n",
    "display(HTML(\"<style>.container { width:100% !important; }</style>\"))\n",
    "\n",
    "import numpy as np\n",
    "import scipy.stats as st\n",
    "\n",
    "from sklearn.preprocessing import minmax_scale\n",
    "\n",
    "# https://matplotlib.org/api/_as_gen/matplotlib.pyplot.html\n",
    "import matplotlib.pyplot as pp\n",
    "\n",
    "# http://pydub.com\n",
    "# https://github.com/jiaaro/pydub\n",
    "from pydub import AudioSegment\n",
    "from pydub.playback import play\n",
    "\n",
    "import random\n",
    "import sys\n",
    "import io\n",
    "import os\n",
    "import time\n",
    "import glob\n",
    "import IPython\n",
    "\n",
    "from python_speech_features import mfcc, fbank, logfbank\n",
    "\n",
    "# local library of helpful functions\n",
    "import library as lib\n",
    "from importlib import reload\n",
    "library = reload(lib)"
   ]
  },
  {
   "cell_type": "markdown",
   "metadata": {},
   "source": [
    "## Load Audio Data"
   ]
  },
  {
   "cell_type": "code",
   "execution_count": 2,
   "metadata": {},
   "outputs": [
    {
     "name": "stdout",
     "output_type": "stream",
     "text": [
      "Loaded file  AudioData/Uebung-01.wav - length 30.03513020833333 min, Aehm count:  88 Max value 31039 \n",
      "\n",
      "Loaded file  AudioData/Uebung-02.wav - length 43.61886354166666 min, Aehm count:  178 Max value 31353 \n",
      "\n",
      "Loaded file  AudioData/Uebung-03.wav - length 42.56587083333333 min, Aehm count:  111 Max value 31794 \n",
      "\n",
      "Loaded file  AudioData/Uebung-06.wav - length 43.643630208333335 min, Aehm count:  54 Max value 31197 \n",
      "\n",
      "Loaded file  AudioData/Uebung-07.wav - length 53.76494583333333 min, Aehm count:  32 Max value 30885 \n",
      "\n",
      "Loaded file  AudioData/Uebung-08.wav - length 41.07248645833333 min, Aehm count:  40 Max value 31272 \n",
      "\n",
      "Loaded file  AudioData/Uebung-09.wav - length 45.34521458333334 min, Aehm count:  41 Max value 31596 \n",
      "\n",
      "Loaded file  AudioData/Uebung-10.wav - length 21.085635416666666 min, Aehm count:  36 Max value 27868 \n",
      "\n",
      "Loaded file  AudioData/Vorlesung-01.wav - length 108.40661979166666 min, Aehm count:  251 Max value 32767 \n",
      "\n",
      "Loaded file  AudioData/Vorlesung-02.wav - length 97.46036458333333 min, Aehm count:  231 Max value 31607 \n",
      "\n",
      "Loaded file  AudioData/Vorlesung-03.wav - length 77.21209895833334 min, Aehm count:  221 Max value 31322 \n",
      "\n",
      "Loaded file  AudioData/Vorlesung-04.wav - length 93.77072291666667 min, Aehm count:  207 Max value 32767 \n",
      "\n",
      "Loading files complete!\n"
     ]
    }
   ],
   "source": [
    "audioDir = \"AudioData\"\n",
    "labelDir = \"AudioData/Labeling\"\n",
    "fileNames = [\"Uebung-01\", \"Uebung-02\", \"Uebung-03\", \"Uebung-06\", \"Uebung-07\", \"Uebung-08\", \"Uebung-09\", \"Uebung-10\", \"Vorlesung-01\", \"Vorlesung-02\", \"Vorlesung-03\", \"Vorlesung-04\"]\n",
    "audioFilePaths = [audioDir + \"/\" + fileName + \".wav\" for fileName in fileNames]\n",
    "labelFilePaths = [labelDir + \"/\" + fileName + \".txt\" for fileName in fileNames]\n",
    "\n",
    "audioAndLabelFiles = []\n",
    "currentIndex = 1\n",
    "for audioFilePath, labelFilePath in zip(audioFilePaths, labelFilePaths):\n",
    "    audioFile = library.load_audio(audioFilePath)\n",
    "    labelFile = np.genfromtxt(labelFilePath, delimiter=\"\\t\")[:,:2] * 1000 # convert s to ms (ms used by pydub)\n",
    "    \n",
    "    audioDataArray = audioFile.get_array_of_samples()\n",
    "    \n",
    "    print(\"Loaded file \", audioFilePath, \"- length\", (len(audioDataArray) / library.sampling_frequency / 60), \n",
    "          \"min, Aehm count: \", len(labelFile), \"Max value\", np.max(audioDataArray), \"\\n\")\n",
    "    \n",
    "    speaker = 0 # michael\n",
    "    if currentIndex <= 3: speaker = 1 # beren\n",
    "    if currentIndex > 3 and currentIndex <= 8: speaker = 2 # tim\n",
    "    currentIndex += 1\n",
    "    \n",
    "    audioAndLabelFiles.append((audioFilePath.split(\"/\")[1], audioFile, labelFile, speaker))\n",
    "    \n",
    "print(\"Loading files complete!\")\n",
    "\n"
   ]
  },
  {
   "cell_type": "markdown",
   "metadata": {},
   "source": [
    "### Statistics on Hand-Labeled Positives"
   ]
  },
  {
   "cell_type": "code",
   "execution_count": 5,
   "metadata": {},
   "outputs": [
    {
     "name": "stdout",
     "output_type": "stream",
     "text": [
      "For speaker 1, file Uebung-01.wav Aehm count (88,), mean duration 323.5 ms (SD = 94.8 ms), duration 95pct CI upper bound: 495 ms\n",
      "For speaker 1, file Uebung-02.wav Aehm count (178,), mean duration 347.0 ms (SD = 121.5 ms), duration 95pct CI upper bound: 538 ms\n",
      "For speaker 1, file Uebung-03.wav Aehm count (111,), mean duration 346.5 ms (SD = 111.6 ms), duration 95pct CI upper bound: 526 ms\n",
      "For speaker 2, file Uebung-06.wav Aehm count (54,), mean duration 457.2 ms (SD = 101.0 ms), duration 95pct CI upper bound: 643 ms\n",
      "For speaker 2, file Uebung-07.wav Aehm count (32,), mean duration 516.7 ms (SD = 134.8 ms), duration 95pct CI upper bound: 718 ms\n",
      "For speaker 2, file Uebung-08.wav Aehm count (40,), mean duration 555.8 ms (SD = 109.0 ms), duration 95pct CI upper bound: 806 ms\n",
      "For speaker 2, file Uebung-09.wav Aehm count (41,), mean duration 231.9 ms (SD = 82.6 ms), duration 95pct CI upper bound: 391 ms\n",
      "For speaker 2, file Uebung-10.wav Aehm count (36,), mean duration 227.3 ms (SD = 58.4 ms), duration 95pct CI upper bound: 319 ms\n",
      "For speaker 0, file Vorlesung-01.wav Aehm count (251,), mean duration 436.4 ms (SD = 138.2 ms), duration 95pct CI upper bound: 670 ms\n",
      "For speaker 0, file Vorlesung-02.wav Aehm count (231,), mean duration 391.1 ms (SD = 128.0 ms), duration 95pct CI upper bound: 625 ms\n",
      "For speaker 0, file Vorlesung-03.wav Aehm count (221,), mean duration 501.6 ms (SD = 199.0 ms), duration 95pct CI upper bound: 840 ms\n",
      "For speaker 0, file Vorlesung-04.wav Aehm count (207,), mean duration 305.4 ms (SD = 116.1 ms), duration 95pct CI upper bound: 503 ms\n"
     ]
    },
    {
     "data": {
      "image/png": "[encoded data removed]",
      "text/plain": [
       "<Figure size 432x288 with 1 Axes>"
      ]
     },
     "metadata": {
      "needs_background": "light"
     },
     "output_type": "display_data"
    }
   ],
   "source": [
    "for path, audioFile, labelFile, speaker in audioAndLabelFiles:\n",
    "    durations = labelFile[:,1] - labelFile[:,0]\n",
    "    pp.hist(durations, bins=20)\n",
    "    print(\"For speaker %d, file %s Aehm count %s, mean duration %.1f ms (SD = %.1f ms), duration 95pct CI upper bound: %.0f ms\" \n",
    "          % (speaker, path, str(durations.shape), np.mean(durations), np.std(durations), np.percentile(durations, 95)))"
   ]
  },
  {
   "cell_type": "markdown",
   "metadata": {},
   "source": [
    "### Verify Ahems manually"
   ]
  },
  {
   "cell_type": "code",
   "execution_count": null,
   "metadata": {},
   "outputs": [],
   "source": [
    "for path, audioFile, labelFile, speaker in audioAndLabelFiles:\n",
    "    print(\"Playing Aehms for file %s\" % path)\n",
    "    # play positives\n",
    "    for i in range(len(labelFile)):\n",
    "        print(i, labelFile[i,0], labelFile[i,1])\n",
    "        aehmSound = audioFile[labelFile[i,0] : labelFile[i,1]]\n",
    "        #s.export(\"tmp.wav\", format = 'wav')\n",
    "        #IPython.display.Audio(\"tmp.wav\")\n",
    "        play(aehmSound)\n",
    "        time.sleep(.2)\n",
    "        #input()  # manual check"
   ]
  },
  {
   "cell_type": "markdown",
   "metadata": {},
   "source": [
    "## Data generation"
   ]
  },
  {
   "cell_type": "markdown",
   "metadata": {},
   "source": [
    "## Grab data from one sample for testing"
   ]
  },
  {
   "cell_type": "code",
   "execution_count": 6,
   "metadata": {},
   "outputs": [
    {
     "name": "stdout",
     "output_type": "stream",
     "text": [
      "sampleData has shape  (12000,)\n",
      "(12000,) [   448.72176782    329.37941578    222.85190616 ... -13635.03984604\n",
      " -12697.89907992 -14540.44046505]\n",
      "(49, 40) [[ -0.61157278  -1.01764606  10.40516139 ...   2.40205315   5.81572123\n",
      "    2.34646589]\n",
      " [ -0.85616491   6.31033455   6.78723765 ... -12.42598632   1.80864772\n",
      "    0.22489361]\n",
      " [ -0.69694887  -0.144401     5.20076819 ...  -2.88671698   6.67627266\n",
      "    1.02786734]\n",
      " ...\n",
      " [  2.16615446  -7.39945477  -0.08497586 ...  -4.31974027  -1.46446116\n",
      "    1.19601663]\n",
      " [  1.83671908  -4.02759354  -0.38162483 ...   1.28785602   1.44044406\n",
      "   -7.18544441]\n",
      " [  1.350156    -2.53964873  -2.77362272 ...  -4.85594362   0.60749459\n",
      "    5.80918092]]\n"
     ]
    }
   ],
   "source": [
    "for path, audioFile, labelFile, speaker in audioAndLabelFiles:\n",
    "    start_pos = labelFile[10,0]\n",
    "    currentSample = library.getSample(audioFile, start_pos, True)\n",
    "    \n",
    "    features = library.compute_mfcc(currentSample)\n",
    "    \n",
    "    print(currentSample.shape, currentSample)\n",
    "    print(features.shape, features)\n",
    "    \n",
    "    np.savetxt(\"sample.txt\", currentSample)\n",
    "    np.savetxt(\"features.txt\", features)\n",
    "    \n",
    "    break"
   ]
  },
  {
   "cell_type": "markdown",
   "metadata": {},
   "source": [
    "## Generate positive samples"
   ]
  },
  {
   "cell_type": "code",
   "execution_count": 14,
   "metadata": {},
   "outputs": [
    {
     "name": "stdout",
     "output_type": "stream",
     "text": [
      "For sourceFile Uebung-01.wav allFeaturesData shape for positive samples is (2200, 49, 40)\n",
      "For sourceFile Uebung-02.wav allFeaturesData shape for positive samples is (4450, 49, 40)\n",
      "For sourceFile Uebung-03.wav allFeaturesData shape for positive samples is (2775, 49, 40)\n",
      "For sourceFile Uebung-06.wav allFeaturesData shape for positive samples is (1350, 49, 40)\n",
      "For sourceFile Uebung-07.wav allFeaturesData shape for positive samples is (800, 49, 40)\n",
      "For sourceFile Uebung-08.wav allFeaturesData shape for positive samples is (1000, 49, 40)\n",
      "For sourceFile Uebung-09.wav allFeaturesData shape for positive samples is (1025, 49, 40)\n",
      "For sourceFile Uebung-10.wav allFeaturesData shape for positive samples is (900, 49, 40)\n",
      "For sourceFile Vorlesung-01.wav allFeaturesData shape for positive samples is (6275, 49, 40)\n",
      "For sourceFile Vorlesung-02.wav allFeaturesData shape for positive samples is (5775, 49, 40)\n",
      "For sourceFile Vorlesung-03.wav allFeaturesData shape for positive samples is (5525, 49, 40)\n",
      "For sourceFile Vorlesung-04.wav allFeaturesData shape for positive samples is (5175, 49, 40)\n",
      "Total positive samples = 37250\n"
     ]
    }
   ],
   "source": [
    "SAVE_FOLDER = \"PrecomputedSpecialFeatures\"\n",
    "METHOD_USED = library.compute_mfcc\n",
    "\n",
    "# Generate X different versions of the positive samples with noise\n",
    "positivesMultiplier = 25\n",
    "\n",
    "totalPositivesSampleCounter = 0\n",
    "for path, audioFile, labelFile, speaker in audioAndLabelFiles:\n",
    "    allFeaturesData = None\n",
    "    for i in range(len(labelFile)):\n",
    "        start_pos = labelFile[i,0]\n",
    "        currentSample = library.getSample(audioFile, start_pos, False)\n",
    "\n",
    "        features = METHOD_USED(currentSample) \n",
    "        if allFeaturesData is None:\n",
    "            allFeaturesData = np.zeros((len(labelFile)*positivesMultiplier, features.shape[0], features.shape[1]))\n",
    "        # add sample without noise\n",
    "        allFeaturesData[i*positivesMultiplier, :, :] = features\n",
    "        totalPositivesSampleCounter += 1\n",
    "        \n",
    "        for j in range(1, positivesMultiplier):  # multiplier for positive samples, now adding samples with noise\n",
    "            currentSample = library.getSample(audioFile, start_pos, True)\n",
    "            features = library.compute_mfcc(currentSample) \n",
    "            \n",
    "            # uncomment to see spectras\n",
    "            #s = np.log(features)\n",
    "            #pp.figure()\n",
    "            #pp.imshow(s)\n",
    "            #break\n",
    "                \n",
    "            allFeaturesData[i*positivesMultiplier+j, :, :] = features\n",
    "            #print(\"inserted sample \"+ str(i) +\" from file \" + path + \" at pos \" + str(i*positivesMultiplier+j))\n",
    "            totalPositivesSampleCounter += 1\n",
    "        #break\n",
    "        \n",
    "    print(\"For sourceFile \" + path + \" allFeaturesData shape for positive samples is \" + str(allFeaturesData.shape))\n",
    "    np.save(SAVE_FOLDER + \"/speaker-\"+ str(speaker) +\"-\" + path +  \"-positives.npy\", allFeaturesData)\n",
    "    \n",
    "print(\"Total positive samples =\", totalPositivesSampleCounter)"
   ]
  },
  {
   "cell_type": "markdown",
   "metadata": {},
   "source": [
    "## Generate as many random possible negative samples which do not overlap positive samples"
   ]
  },
  {
   "cell_type": "code",
   "execution_count": null,
   "metadata": {},
   "outputs": [
    {
     "name": "stdout",
     "output_type": "stream",
     "text": [
      "Percentage impact of Uebung-01.wav on negative samples: 4.3 %\n",
      "For sourceFile Uebung-01.wav allFeaturesData shape for negative samples is (1603, 49, 40)\n",
      "Percentage impact of Uebung-02.wav on negative samples: 6.2 %\n",
      "For sourceFile Uebung-02.wav allFeaturesData shape for negative samples is (2328, 49, 40)\n",
      "Percentage impact of Uebung-03.wav on negative samples: 6.1 %\n",
      "For sourceFile Uebung-03.wav allFeaturesData shape for negative samples is (2272, 49, 40)\n",
      "Percentage impact of Uebung-06.wav on negative samples: 6.3 %\n",
      "For sourceFile Uebung-06.wav allFeaturesData shape for negative samples is (2330, 49, 40)\n",
      "Percentage impact of Uebung-07.wav on negative samples: 7.7 %\n",
      "For sourceFile Uebung-07.wav allFeaturesData shape for negative samples is (2870, 49, 40)\n",
      "Percentage impact of Uebung-08.wav on negative samples: 5.9 %\n",
      "For sourceFile Uebung-08.wav allFeaturesData shape for negative samples is (2192, 49, 40)\n",
      "Percentage impact of Uebung-09.wav on negative samples: 6.5 %\n",
      "For sourceFile Uebung-09.wav allFeaturesData shape for negative samples is (2420, 49, 40)\n",
      "Percentage impact of Uebung-10.wav on negative samples: 3.0 %\n",
      "For sourceFile Uebung-10.wav allFeaturesData shape for negative samples is (1126, 49, 40)\n",
      "Percentage impact of Vorlesung-01.wav on negative samples: 15.5 %\n",
      "For sourceFile Vorlesung-01.wav allFeaturesData shape for negative samples is (5786, 49, 40)\n",
      "Percentage impact of Vorlesung-02.wav on negative samples: 14.0 %\n"
     ]
    }
   ],
   "source": [
    "SAVE_FOLDER = \"PrecomputedSpecialFeatures\"\n",
    "METHOD_USED = library.compute_mfcc\n",
    "\n",
    "def generate_random_negative_sample(audioData, positions):\n",
    "    \"\"\"Generates a random sample which does not overlap positive samples\"\"\"\n",
    "    startPosition = random.randint(library.preContext, len(audioData) - 1 - library.duration)\n",
    "    endPosition = startPosition + library.duration\n",
    "    while library.overlaps_position(startPosition - library.preContext, endPosition, positions, positions_negative): \n",
    "        startPosition = random.randint(library.preContext, len(audioData) - 1 - library.duration)\n",
    "        endPosition = startPosition + library.duration\n",
    "        \n",
    "    currentSample = library.getSample(audioData, startPosition, True)\n",
    "    positions_negative.append((startPosition-library.preContext,endPosition))\n",
    "    \n",
    "    return METHOD_USED(currentSample)\n",
    "\n",
    "# compute length of all audio files to takes samples out of files according to their length\n",
    "allAudioFilesLength = 0\n",
    "for path, audioFile, labelFile, speaker in audioAndLabelFiles:\n",
    "    allAudioFilesLength += len(audioFile)\n",
    "\n",
    "# generate as many negative samples as we already have positive samples\n",
    "totalNegativeSamplesCounter = 0\n",
    "for path, audioFile, labelFile, speaker in audioAndLabelFiles:\n",
    "    allFeaturesData = []\n",
    "    thisFileNegativeSamplesCounter = 0\n",
    "    positions_negative = [] # positions_negative is file specific\n",
    "    thisAudioFilePercentageOfAll = len(audioFile) / float(allAudioFilesLength)\n",
    "    print(\"Percentage impact of \" + path + \" on negative samples: %.1f %%\" % (thisAudioFilePercentageOfAll * 100))\n",
    "    \n",
    "    while thisFileNegativeSamplesCounter < totalPositivesSampleCounter * thisAudioFilePercentageOfAll:\n",
    "        currentNegativeSample = generate_random_negative_sample(audioFile, labelFile)\n",
    "        allFeaturesData.append(currentNegativeSample)\n",
    "        totalNegativeSamplesCounter += 1\n",
    "        thisFileNegativeSamplesCounter += 1\n",
    "        \n",
    "    allFeaturesData = np.array(allFeaturesData)    \n",
    "    \n",
    "    print(\"For sourceFile \" + path + \" allFeaturesData shape for negative samples is \" + str(allFeaturesData.shape))\n",
    "    np.save(SAVE_FOLDER + \"/speaker-\"+ str(speaker) +\"-\" + path +  \"-negatives.npy\", allFeaturesData)\n",
    "\n",
    "print(\"Total negative samples =\", totalNegativeSamplesCounter )"
   ]
  }
 ],
 "metadata": {
  "kernelspec": {
   "display_name": "Python 3",
   "language": "python",
   "name": "python3"
  },
  "language_info": {
   "codemirror_mode": {
    "name": "ipython",
    "version": 3
   },
   "file_extension": ".py",
   "mimetype": "text/x-python",
   "name": "python",
   "nbconvert_exporter": "python",
   "pygments_lexer": "ipython3",
   "version": "3.7.7"
  }
 },
 "nbformat": 4,
 "nbformat_minor": 2
}
